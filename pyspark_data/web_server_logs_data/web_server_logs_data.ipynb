{
 "nbformat": 4,
 "nbformat_minor": 0,
 "metadata": {
  "colab": {
   "provenance": []
  },
  "kernelspec": {
   "name": "python3",
   "display_name": "Python 3"
  },
  "language_info": {
   "name": "python"
  }
 },
 "cells": [
  {
   "cell_type": "code",
   "source": [
    "from pyspark.sql import SparkSession, functions as F\n",
    "\n",
    "spark = SparkSession.builder.appName(\"spark\").master(\"local[*]\").getOrCreate()\n",
    "\n",
    "logs_df = spark.read.csv(\"web_server_logs.csv\", header=True, inferSchema=True)\n",
    "\n",
    "# Анализ информации\n",
    "# Сгруппируйте данные по IP и посчитайте количество запросов для каждого IP, выводим 10 самых активных IP\n",
    "top_active_ip = (\n",
    "    logs_df.groupBy(\"ip\")\n",
    "    .agg(F.count(\"ip\").alias(\"request_count\"))\n",
    "    .orderBy(F.col(\"request_count\").desc())\n",
    "    .limit(10)\n",
    ")\n",
    "\n",
    "# Сгруппируйте данные по HTTP-методу и посчитайте количество запросов для каждого метода.\n",
    "method_count = logs_df.groupBy(\"method\").agg(F.count(\"method\").alias(\"method_count\"))\n",
    "\n",
    "# Профильтруйте и посчитайте количество запросов с кодом ответа 404.\n",
    "response_code_by_404 = logs_df.filter(F.col(\"response_code\") == 404).count()\n",
    "\n",
    "# Сгруппируйте данные по дате и просуммируйте размер ответов, сортируйте по дате.\n",
    "response_size_by_date = (\n",
    "    logs_df.withColumn(\"date\", F.to_date(F.col(\"timestamp\"), \"yyyy-mm-dd\"))\n",
    "    .groupBy(\"date\")\n",
    "    .agg(F.sum(\"response_size\").alias(\"total_response_size\"))\n",
    "    .orderBy(F.col(\"date\"))\n",
    ")\n",
    "\n",
    "# Результаты анализа\n",
    "print(\"Top 10 active IP addresses:\")\n",
    "top_active_ip.show()\n",
    "\n",
    "print(\"Request count by HTTP method:\")\n",
    "method_count.show()\n",
    "\n",
    "print(f\"Number of 404 response codes: {response_code_by_404}\")\n",
    "\n",
    "print(\"Total response size by date:\")\n",
    "response_size_by_date.show()"
   ],
   "metadata": {
    "id": "D4cygh7N-E6m",
    "outputId": "63f97516-d33d-4232-849e-cafcd5b4a4b6",
    "colab": {
     "base_uri": "https://localhost:8080/"
    }
   },
   "execution_count": null,
   "outputs": []
  },
  {
   "cell_type": "code",
   "source": [],
   "metadata": {
    "id": "ltUVpCHfoYy1"
   },
   "execution_count": null,
   "outputs": []
  }
 ]
}
