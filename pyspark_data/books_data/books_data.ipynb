{
 "nbformat": 4,
 "nbformat_minor": 0,
 "metadata": {
  "colab": {
   "provenance": []
  },
  "kernelspec": {
   "name": "python3",
   "display_name": "Python 3"
  },
  "language_info": {
   "name": "python"
  }
 },
 "cells": [
  {
   "cell_type": "code",
   "source": [
    "from pyspark.sql import SparkSession, functions as F\n",
    "\n",
    "spark = SparkSession.builder.appName(\"books_data\").master(\"local[*]\").getOrCreate()\n",
    "\n",
    "books_df = spark.read.csv(\n",
    "    \"/content/sample_data/books.csv\", header=True, inferSchema=True\n",
    ")\n",
    "authors_df = spark.read.csv(\n",
    "    \"/content/sample_data/authors.csv\", header=True, inferSchema=True\n",
    ")\n",
    "\n",
    "# Обработка данных: Преобразуйте столбцы publish_date и birth_date в формат даты.\n",
    "if \"publish_date\" in books_df.columns:\n",
    "    print(\"Столбец publish_date найден, преобразование в формат даты.\")\n",
    "\n",
    "    books_df = books_df.withColumn(\n",
    "        \"publish_date\", F.to_date(F.col(\"publish_date\"), \"yyyy-mm-dd\")\n",
    "    )\n",
    "else:\n",
    "    print(\"Столбец publish_date не найден.\")\n",
    "\n",
    "\n",
    "if \"birth_date\" in authors_df.columns:\n",
    "    print(\"Столбец birth_date найден, преобразование в формат даты.\")\n",
    "\n",
    "    authors_df = authors_df.withColumn(\n",
    "        \"birth_date\", F.to_date(F.col(\"birth_date\"), \"yyyy-mm-dd\")\n",
    "    )\n",
    "else:\n",
    "    print(\"Столбец birth_date не найден.\")\n",
    "\n",
    "# Объединение данных: Объедините таблицы books и authors по author_id.\n",
    "join_df = books_df.join(authors_df, on=\"author_id\", how=\"left\")\n",
    "\n",
    "join_df.show()\n",
    "\n",
    "# Анализ данных:\n",
    "# Найдите топ-5 авторов, книги которых принесли наибольшую выручку.\n",
    "top_author = (\n",
    "    join_df.groupBy(\"author_id\", \"name\")\n",
    "    .agg(F.sum(\"price\").alias(\"total_revenue\"))\n",
    "    .orderBy(F.col(\"total_revenue\").desc())\n",
    "    .limit(5)\n",
    ")\n",
    "\n",
    "# Найдите количество книг в каждом жанре.\n",
    "count_genre = (\n",
    "    join_df.groupBy(\"genre\")\n",
    "    .agg(F.count(\"genre\").alias(\"count\"))\n",
    "    .orderBy(F.col(\"count\").desc())\n",
    ")\n",
    "\n",
    "# Подсчитайте среднюю цену книг по каждому автору.\n",
    "avg_price_books = (\n",
    "    join_df.groupBy(\"author_id\", \"name\")\n",
    "    .agg(F.avg(\"price\").alias(\"average_price\"))\n",
    "    .orderBy(F.col(\"average_price\").desc())\n",
    ")\n",
    "\n",
    "# Найдите книги, опубликованные после 2000 года, и отсортируйте их по цене.\n",
    "new_books = join_df.filter(F.year(\"publish_date\") > 2000).orderBy(F.col(\"price\").desc())\n",
    "\n",
    "# Результаты: Выведите результаты анализа в виде таблиц.\n",
    "top_author.show()\n",
    "count_genre.show()\n",
    "avg_price_books.show()\n",
    "new_books.show()"
   ],
   "metadata": {
    "id": "D4cygh7N-E6m",
    "outputId": "5024cee8-2a8d-4381-efe3-c86919ed7480",
    "colab": {
     "base_uri": "https://localhost:8080/"
    },
    "is_executing": true
   },
   "execution_count": null,
   "outputs": []
  },
  {
   "cell_type": "code",
   "execution_count": null,
   "outputs": [],
   "source": [],
   "metadata": {
    "collapsed": false
   }
  }
 ]
}
