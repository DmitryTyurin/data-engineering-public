{
 "nbformat": 4,
 "nbformat_minor": 0,
 "metadata": {
  "colab": {
   "provenance": [],
   "authorship_tag": "ABX9TyOvh/e4ydM5O/vK3NOgiPX+",
   "include_colab_link": true
  },
  "kernelspec": {
   "name": "python3",
   "display_name": "Python 3"
  },
  "language_info": {
   "name": "python"
  }
 },
 "cells": [
  {
   "cell_type": "code",
   "source": [
    "from pyspark.sql import SparkSession\n",
    "from pyspark.sql import functions as F\n",
    "from pyspark.sql import Window\n",
    "\n",
    "\n",
    "spark = SparkSession.builder.appName(\"weather_data\").master(\"local[*]\").getOrCreate()\n",
    "\n",
    "dataframe = spark.read.csv(\n",
    "    \"/content/sample_data/weather_data.csv\", header=True, inferSchema=True\n",
    ")\n",
    "\n",
    "# Преобразуйте столбец date в формат даты.\n",
    "dataframe = dataframe.withColumn(\"date\", F.to_date(F.col(\"date\"), \"yyyy-MM-dd\"))\n",
    "\n",
    "# Заполнение пропущенных значений средними значениями по метеостанциям\n",
    "dataframe = dataframe.withColumn(\n",
    "    \"temperature\",\n",
    "    F.when(F.col(\"temperature\").isNotNull(), F.col(\"temperature\")).otherwise(\n",
    "        F.avg(\"temperature\").over(Window.partitionBy(\"station_id\"))\n",
    "    ),\n",
    ")\n",
    "\n",
    "dataframe = dataframe.withColumn(\n",
    "    \"precipitation\",\n",
    "    F.when(F.col(\"precipitation\").isNotNull(), F.col(\"precipitation\")).otherwise(\n",
    "        F.avg(\"precipitation\").over(Window.partitionBy(\"station_id\"))\n",
    "    ),\n",
    ")\n",
    "\n",
    "dataframe = dataframe.withColumn(\n",
    "    \"wind_speed\",\n",
    "    F.when(F.col(\"wind_speed\").isNotNull(), F.col(\"wind_speed\")).otherwise(\n",
    "        F.avg(\"wind_speed\").over(Window.partitionBy(\"station_id\"))\n",
    "    ),\n",
    ")\n",
    "\n",
    "\n",
    "dataframe.show()"
   ],
   "metadata": {
    "id": "D4cygh7N-E6m"
   },
   "execution_count": null,
   "outputs": []
  }
 ]
}
