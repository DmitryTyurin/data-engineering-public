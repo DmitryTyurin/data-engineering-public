{
 "nbformat": 4,
 "nbformat_minor": 0,
 "metadata": {
  "colab": {
   "provenance": []
  },
  "kernelspec": {
   "name": "python3",
   "display_name": "Python 3"
  },
  "language_info": {
   "name": "python"
  }
 },
 "cells": [
  {
   "cell_type": "code",
   "source": [
    "import csv\n",
    "from faker import Faker\n",
    "import random\n",
    "\n",
    "fake = Faker()\n",
    "\n",
    "num_records = 100000\n",
    "\n",
    "http_methods = [\"GET\", \"POST\", \"PUT\", \"DELETE\"]\n",
    "response_codes = [200, 301, 404, 500]\n",
    "\n",
    "file_path = \"web_server_logs.csv\"\n",
    "\n",
    "with open(file_path, mode=\"w\", newline=\"\") as file:\n",
    "    writer = csv.writer(file)\n",
    "    writer.writerow(\n",
    "        [\"ip\", \"timestamp\", \"method\", \"url\", \"response_code\", \"response_size\"]\n",
    "    )\n",
    "\n",
    "    for _ in range(num_records):\n",
    "        ip = fake.ipv4()\n",
    "        timestamp = fake.date_time_this_year().isoformat()\n",
    "        method = random.choice(http_methods)\n",
    "        url = fake.uri_path()\n",
    "        response_code = random.choice(response_codes)\n",
    "        response_size = random.randint(100, 10000)\n",
    "\n",
    "        writer.writerow([ip, timestamp, method, url, response_code, response_size])\n",
    "\n",
    "print(f\"Сгенерировано {num_records} записей и сохранено в {file_path}\")"
   ],
   "metadata": {
    "id": "D4cygh7N-E6m",
    "outputId": "63f97516-d33d-4232-849e-cafcd5b4a4b6",
    "colab": {
     "base_uri": "https://localhost:8080/"
    }
   },
   "execution_count": null,
   "outputs": []
  },
  {
   "cell_type": "code",
   "source": [],
   "metadata": {
    "id": "ltUVpCHfoYy1"
   },
   "execution_count": null,
   "outputs": []
  }
 ]
}
