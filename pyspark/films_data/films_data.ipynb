{
 "nbformat": 4,
 "nbformat_minor": 0,
 "metadata": {
  "colab": {
   "provenance": []
  },
  "kernelspec": {
   "name": "python3",
   "display_name": "Python 3"
  },
  "language_info": {
   "name": "python"
  }
 },
 "cells": [
  {
   "cell_type": "code",
   "source": [
    "from pyspark.sql import SparkSession, functions as F\n",
    "\n",
    "spark = SparkSession.builder.appName(\"spark\").master(\"local[*]\").getOrCreate()\n",
    "\n",
    "# Чтение данных\n",
    "movies_df = spark.read.csv(\"movies.csv\", header=True, inferSchema=True)\n",
    "actors_df = spark.read.csv(\"actors.csv\", header=True, inferSchema=True)\n",
    "movie_actors_df = spark.read.csv(\"movie_actors.csv\", header=True, inferSchema=True)\n",
    "\n",
    "# Временные таблицы для данных о фильмах, актерах и связях между ними.\n",
    "movies_df.createOrReplaceTempView(\"movies\")\n",
    "actors_df.createOrReplaceTempView(\"actors\")\n",
    "movie_actors_df.createOrReplaceTempView(\"movie_actors\")\n",
    "\n",
    "# Найдите топ-5 жанров по количеству фильмов.\n",
    "top_genre = spark.sql(\n",
    "    \"\"\"\n",
    "    select genre, count(movie_id) as count_film\n",
    "    from movies\n",
    "    group by genre\n",
    "    order by count_film desc\n",
    "\"\"\"\n",
    ")\n",
    "\n",
    "# Найдите актера с наибольшим количеством фильмов.\n",
    "top_actor = spark.sql(\n",
    "    \"\"\"\n",
    "    select a.name as actor_name, count(ma.movie_id) as count_film\n",
    "    from actors a\n",
    "      left join movie_actors ma on a.actor_id = ma.actor_id\n",
    "    group by a.name\n",
    "    order by count_film desc\n",
    "    limit 1\n",
    "\"\"\"\n",
    ")\n",
    "\n",
    "# Подсчитайте средний бюджет фильмов по жанрам.\n",
    "avg_budget = spark.sql(\n",
    "    \"\"\"\n",
    "    select genre, avg(budget) as avg_budget\n",
    "    from movies\n",
    "    group by genre\n",
    "\"\"\"\n",
    ")\n",
    "\n",
    "# Найдите фильмы, в которых снялось более одного актера из одной страны.\n",
    "actor_from_country = spark.sql(\n",
    "    \"\"\"\n",
    "    select m.title, a.country, count(ma.actor_id) as count_actor\n",
    "    from movies m\n",
    "      left join movie_actors ma on m.movie_id = ma.movie_id\n",
    "      left join actors a ON ma.actor_id = a.actor_id\n",
    "    group by m.title, a.country\n",
    "    having count_actor > 1\n",
    "\"\"\"\n",
    ")\n",
    "\n",
    "\n",
    "# Результаты:\n",
    "top_genre.show()\n",
    "top_actor.show()\n",
    "avg_budget.show()\n",
    "actor_from_country.show()"
   ],
   "metadata": {
    "id": "D4cygh7N-E6m",
    "outputId": "6bb2d923-8385-41b2-b832-96ff57ccf51f",
    "colab": {
     "base_uri": "https://localhost:8080/"
    }
   },
   "execution_count": 37,
   "outputs": [
    {
     "output_type": "stream",
     "name": "stdout",
     "text": [
      "+------+-----+\n",
      "| genre|count|\n",
      "+------+-----+\n",
      "| Drama|    6|\n",
      "|Action|    6|\n",
      "|Comedy|    4|\n",
      "|Horror|    2|\n",
      "|Sci-Fi|    2|\n",
      "+------+-----+\n",
      "\n"
     ]
    }
   ]
  }
 ]
}
